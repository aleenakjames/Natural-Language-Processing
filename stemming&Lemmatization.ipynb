{
 "cells": [
  {
   "cell_type": "code",
   "execution_count": 1,
   "id": "f3a39070",
   "metadata": {},
   "outputs": [],
   "source": [
    "#am , are, is.... 'be'"
   ]
  },
  {
   "cell_type": "code",
   "execution_count": 2,
   "id": "be1e853b",
   "metadata": {},
   "outputs": [],
   "source": [
    "#cat, cats, cat's, cats'.... 'cat'"
   ]
  },
  {
   "cell_type": "code",
   "execution_count": 3,
   "id": "70b87705",
   "metadata": {},
   "outputs": [],
   "source": [
    "#'the girl's pants are different sizes'\n",
    "#'the girl pant be differ size'"
   ]
  },
  {
   "cell_type": "code",
   "execution_count": 24,
   "id": "f90ccb60",
   "metadata": {},
   "outputs": [
    {
     "name": "stderr",
     "output_type": "stream",
     "text": [
      "[nltk_data] Downloading package omw-1.4 to\n",
      "[nltk_data]     C:\\Users\\Aleena\\AppData\\Roaming\\nltk_data...\n",
      "[nltk_data]   Package omw-1.4 is already up-to-date!\n"
     ]
    },
    {
     "data": {
      "text/plain": [
       "True"
      ]
     },
     "execution_count": 24,
     "metadata": {},
     "output_type": "execute_result"
    }
   ],
   "source": [
    "import nltk\n",
    "from nltk.tokenize import word_tokenize\n",
    "nltk.download('omw-1.4')"
   ]
  },
  {
   "cell_type": "code",
   "execution_count": 31,
   "id": "cc704a7a",
   "metadata": {},
   "outputs": [],
   "source": [
    "raw = \"\"\"Call me Ishel. Some years ago never mind how long precisely having\n",
    "... little or no money in my purse, and nothing to interest me on shore,\n",
    "... I thought I would sail about a little and see the part of the waterry world.\"\"\""
   ]
  },
  {
   "cell_type": "code",
   "execution_count": 32,
   "id": "db8c189a",
   "metadata": {},
   "outputs": [],
   "source": [
    "tokens = word_tokenize(raw)"
   ]
  },
  {
   "cell_type": "code",
   "execution_count": 33,
   "id": "753ec063",
   "metadata": {},
   "outputs": [],
   "source": [
    "porter = nltk.PorterStemmer()\n",
    "lancaster = nltk.LancasterStemmer()"
   ]
  },
  {
   "cell_type": "code",
   "execution_count": 35,
   "id": "5e2118f3",
   "metadata": {},
   "outputs": [
    {
     "data": {
      "text/plain": [
       "'call, me, ishel, ., some, year, ago, never, mind, how, long, precis, have, littl, or, no, money, in, my, purs, ,, and, noth, to, interest, me, on, shore, ,, i, thought, i, would, sail, about, a, littl, and, see, the, part, of, the, waterri, world, .'"
      ]
     },
     "execution_count": 35,
     "metadata": {},
     "output_type": "execute_result"
    }
   ],
   "source": [
    "a = [porter.stem(t) for t in tokens]\n",
    "a = ', '.join(a)\n",
    "a"
   ]
  },
  {
   "cell_type": "code",
   "execution_count": 36,
   "id": "ce47c242",
   "metadata": {},
   "outputs": [
    {
     "data": {
      "text/plain": [
       "'cal, me, ishel, ., som, year, ago, nev, mind, how, long, prec, hav, littl, or, no, money, in, my, purs, ,, and, noth, to, interest, me, on, shor, ,, i, thought, i, would, sail, about, a, littl, and, see, the, part, of, the, waterry, world, .'"
      ]
     },
     "execution_count": 36,
     "metadata": {},
     "output_type": "execute_result"
    }
   ],
   "source": [
    "b = [lancaster.stem(t) for t in tokens]\n",
    "b = ', '.join(b)\n",
    "b"
   ]
  },
  {
   "cell_type": "code",
   "execution_count": 37,
   "id": "0f065675",
   "metadata": {},
   "outputs": [],
   "source": [
    "wnl = nltk.WordNetLemmatizer()"
   ]
  },
  {
   "cell_type": "code",
   "execution_count": 38,
   "id": "0434293b",
   "metadata": {},
   "outputs": [
    {
     "data": {
      "text/plain": [
       "'Call, me, Ishel, ., Some, year, ago, never, mind, how, long, precisely, having, little, or, no, money, in, my, purse, ,, and, nothing, to, interest, me, on, shore, ,, I, thought, I, would, sail, about, a, little, and, see, the, part, of, the, waterry, world, .'"
      ]
     },
     "execution_count": 38,
     "metadata": {},
     "output_type": "execute_result"
    }
   ],
   "source": [
    "c = [wnl.lemmatize(t) for t in tokens]\n",
    "c = ', '.join(c)\n",
    "c"
   ]
  },
  {
   "cell_type": "code",
   "execution_count": null,
   "id": "0b7103ff",
   "metadata": {},
   "outputs": [],
   "source": []
  }
 ],
 "metadata": {
  "kernelspec": {
   "display_name": "Python 3",
   "language": "python",
   "name": "python3"
  },
  "language_info": {
   "codemirror_mode": {
    "name": "ipython",
    "version": 3
   },
   "file_extension": ".py",
   "mimetype": "text/x-python",
   "name": "python",
   "nbconvert_exporter": "python",
   "pygments_lexer": "ipython3",
   "version": "3.9.12"
  }
 },
 "nbformat": 4,
 "nbformat_minor": 5
}
